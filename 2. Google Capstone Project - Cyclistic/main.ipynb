{
 "cells": [
  {
   "cell_type": "code",
   "execution_count": 2,
   "outputs": [],
   "source": [
    "#path to where the CSV files are stored\n",
    "path = r'G:\\My Drive\\4. Projetos\\3. Data Analytics\\1. Side Projects\\2. Google Data Analytics Capstone Project (Cyclistic)\\Data Source\\Data'"
   ],
   "metadata": {
    "collapsed": false
   }
  },
  {
   "cell_type": "code",
   "execution_count": 1,
   "outputs": [],
   "source": [
    "import pandas as pd\n",
    "import glob"
   ],
   "metadata": {
    "collapsed": false
   }
  },
  {
   "cell_type": "code",
   "execution_count": 3,
   "outputs": [],
   "source": [
    "# Use glob to get a list of all CSV files in the directory\n",
    "all_files = glob.glob(path + \"/*.csv\")"
   ],
   "metadata": {
    "collapsed": false
   }
  },
  {
   "cell_type": "code",
   "execution_count": 4,
   "outputs": [],
   "source": [
    "# Combine all CSV files into a single DataFrame\n",
    "df = pd.concat((pd.read_csv(f) for f in all_files), ignore_index=True)"
   ],
   "metadata": {
    "collapsed": false
   }
  },
  {
   "cell_type": "code",
   "execution_count": 5,
   "outputs": [],
   "source": [
    "# Convert the 'started_at' and 'ended_at' columns to datetime64 dtype\n",
    "df['started_at'] = pd.to_datetime(df['started_at'])\n",
    "df['ended_at'] = pd.to_datetime(df['ended_at'])\n",
    "\n",
    "# Calculate the ride length in seconds as an integer\n",
    "df['ride_length'] = (df['ended_at'] - df['started_at']).dt.total_seconds().astype(int)"
   ],
   "metadata": {
    "collapsed": false
   }
  },
  {
   "cell_type": "code",
   "execution_count": 6,
   "outputs": [],
   "source": [
    "# calculate ride length in seconds and convert to minutes\n",
    "df[\"ride_length\"] = (pd.to_datetime(df[\"ended_at\"]) - pd.to_datetime(df[\"started_at\"])).dt.total_seconds() / 60"
   ],
   "metadata": {
    "collapsed": false
   }
  },
  {
   "cell_type": "code",
   "execution_count": 7,
   "outputs": [],
   "source": [
    "df['ride_length'] = df['ride_length'].round(2)"
   ],
   "metadata": {
    "collapsed": false
   }
  },
  {
   "cell_type": "code",
   "execution_count": 8,
   "outputs": [],
   "source": [
    "df = df.rename(columns={'ride_length': 'ride_length_min'})"
   ],
   "metadata": {
    "collapsed": false
   }
  },
  {
   "cell_type": "code",
   "execution_count": 9,
   "outputs": [],
   "source": [
    "# convert the \"started_at\" column to datetime\n",
    "df['started_at'] = pd.to_datetime(df['started_at'])\n",
    "\n",
    "# create a new column called \"day_of_week\"\n",
    "df['day_of_week'] = df['started_at'].dt.weekday + 1  # +1 to shift range from 0-6 to 1-7\n",
    "\n",
    "# format the column as a number with no decimals\n",
    "df['day_of_week'] = df['day_of_week'].astype(int)"
   ],
   "metadata": {
    "collapsed": false
   }
  },
  {
   "cell_type": "code",
   "execution_count": 10,
   "outputs": [],
   "source": [
    "df.drop(['start_lat', 'start_lng', 'end_lat', 'end_lng',], axis=1, inplace=True)"
   ],
   "metadata": {
    "collapsed": false
   }
  },
  {
   "cell_type": "code",
   "execution_count": 11,
   "outputs": [],
   "source": [
    "df.drop(['ride_length_min'], axis=1, inplace=True)"
   ],
   "metadata": {
    "collapsed": false
   }
  },
  {
   "cell_type": "code",
   "execution_count": 12,
   "outputs": [],
   "source": [
    "# Calculate the ride length in seconds as an integer\n",
    "df['ride_length'] = (df['ended_at'] - df['started_at']).dt.total_seconds().astype(int)\n",
    "\n",
    "# calculate ride length in seconds and convert to minutes\n",
    "df[\"ride_length\"] = (pd.to_datetime(df[\"ended_at\"]) - pd.to_datetime(df[\"started_at\"])).dt.total_seconds() / 60\n",
    "df['ride_length'] = df['ride_length'].round(2)\n",
    "df = df.rename(columns={'ride_length': 'ride_length_min'})"
   ],
   "metadata": {
    "collapsed": false
   }
  },
  {
   "cell_type": "code",
   "execution_count": 13,
   "outputs": [
    {
     "data": {
      "text/plain": "            ride_id  rideable_type          started_at            ended_at  \\\n0  600CFD130D0FD2A4  electric_bike 2022-06-30 17:27:53 2022-06-30 17:35:15   \n1  F5E6B5C1682C6464  electric_bike 2022-06-30 18:39:52 2022-06-30 18:47:28   \n2  B6EB6D27BAD771D2  electric_bike 2022-06-30 11:49:25 2022-06-30 12:02:54   \n3  C9C320375DE1D5C6  electric_bike 2022-06-30 11:15:25 2022-06-30 11:19:43   \n4  56C055851023BE98  electric_bike 2022-06-29 23:36:50 2022-06-29 23:45:17   \n\n  start_station_name start_station_id end_station_name end_station_id  \\\n0                NaN              NaN              NaN            NaN   \n1                NaN              NaN              NaN            NaN   \n2                NaN              NaN              NaN            NaN   \n3                NaN              NaN              NaN            NaN   \n4                NaN              NaN              NaN            NaN   \n\n  member_casual  day_of_week  ride_length_min  \n0        casual            4             7.37  \n1        casual            4             7.60  \n2        casual            4            13.48  \n3        casual            4             4.30  \n4        casual            3             8.45  ",
      "text/html": "<div>\n<style scoped>\n    .dataframe tbody tr th:only-of-type {\n        vertical-align: middle;\n    }\n\n    .dataframe tbody tr th {\n        vertical-align: top;\n    }\n\n    .dataframe thead th {\n        text-align: right;\n    }\n</style>\n<table border=\"1\" class=\"dataframe\">\n  <thead>\n    <tr style=\"text-align: right;\">\n      <th></th>\n      <th>ride_id</th>\n      <th>rideable_type</th>\n      <th>started_at</th>\n      <th>ended_at</th>\n      <th>start_station_name</th>\n      <th>start_station_id</th>\n      <th>end_station_name</th>\n      <th>end_station_id</th>\n      <th>member_casual</th>\n      <th>day_of_week</th>\n      <th>ride_length_min</th>\n    </tr>\n  </thead>\n  <tbody>\n    <tr>\n      <th>0</th>\n      <td>600CFD130D0FD2A4</td>\n      <td>electric_bike</td>\n      <td>2022-06-30 17:27:53</td>\n      <td>2022-06-30 17:35:15</td>\n      <td>NaN</td>\n      <td>NaN</td>\n      <td>NaN</td>\n      <td>NaN</td>\n      <td>casual</td>\n      <td>4</td>\n      <td>7.37</td>\n    </tr>\n    <tr>\n      <th>1</th>\n      <td>F5E6B5C1682C6464</td>\n      <td>electric_bike</td>\n      <td>2022-06-30 18:39:52</td>\n      <td>2022-06-30 18:47:28</td>\n      <td>NaN</td>\n      <td>NaN</td>\n      <td>NaN</td>\n      <td>NaN</td>\n      <td>casual</td>\n      <td>4</td>\n      <td>7.60</td>\n    </tr>\n    <tr>\n      <th>2</th>\n      <td>B6EB6D27BAD771D2</td>\n      <td>electric_bike</td>\n      <td>2022-06-30 11:49:25</td>\n      <td>2022-06-30 12:02:54</td>\n      <td>NaN</td>\n      <td>NaN</td>\n      <td>NaN</td>\n      <td>NaN</td>\n      <td>casual</td>\n      <td>4</td>\n      <td>13.48</td>\n    </tr>\n    <tr>\n      <th>3</th>\n      <td>C9C320375DE1D5C6</td>\n      <td>electric_bike</td>\n      <td>2022-06-30 11:15:25</td>\n      <td>2022-06-30 11:19:43</td>\n      <td>NaN</td>\n      <td>NaN</td>\n      <td>NaN</td>\n      <td>NaN</td>\n      <td>casual</td>\n      <td>4</td>\n      <td>4.30</td>\n    </tr>\n    <tr>\n      <th>4</th>\n      <td>56C055851023BE98</td>\n      <td>electric_bike</td>\n      <td>2022-06-29 23:36:50</td>\n      <td>2022-06-29 23:45:17</td>\n      <td>NaN</td>\n      <td>NaN</td>\n      <td>NaN</td>\n      <td>NaN</td>\n      <td>casual</td>\n      <td>3</td>\n      <td>8.45</td>\n    </tr>\n  </tbody>\n</table>\n</div>"
     },
     "execution_count": 13,
     "metadata": {},
     "output_type": "execute_result"
    }
   ],
   "source": [
    "df.head()"
   ],
   "metadata": {
    "collapsed": false
   }
  },
  {
   "cell_type": "markdown",
   "source": [
    "CLEAN"
   ],
   "metadata": {
    "collapsed": false
   }
  },
  {
   "cell_type": "code",
   "execution_count": 14,
   "outputs": [],
   "source": [
    "import pandas as pd\n",
    "import numpy as np\n",
    "# remove rows with NA values\n",
    "df = df.dropna()\n",
    "\n",
    "# remove duplicate rows\n",
    "df = df.drop_duplicates()\n",
    "\n",
    "# remove where ride_length is 0 or negative\n",
    "df = df[df['ride_length_min'] > 0.15]\n"
   ],
   "metadata": {
    "collapsed": false
   }
  },
  {
   "cell_type": "code",
   "execution_count": 15,
   "outputs": [
    {
     "data": {
      "text/plain": "              ride_id  rideable_type          started_at            ended_at  \\\n98   B12AD6565494C368   classic_bike 2022-06-09 22:28:32 2022-06-09 22:52:17   \n214  76DAD9FC95774B53  electric_bike 2022-06-26 23:59:44 2022-06-27 00:25:26   \n216  47DE68ACCA138C13  electric_bike 2022-06-27 11:40:53 2022-06-27 11:50:16   \n233  5D899636D3334ED5   classic_bike 2022-06-27 16:01:13 2022-06-27 16:35:56   \n387  7A163D957F8CF0DD   classic_bike 2022-06-19 22:29:14 2022-06-19 22:29:57   \n\n                 start_station_name start_station_id  \\\n98   California Ave & Milwaukee Ave            13084   \n214     Burnham Greenway & 105th St            20222   \n216           Wood St & Chicago Ave              637   \n233    California Ave & Division St            13256   \n387  California Ave & Milwaukee Ave            13084   \n\n                   end_station_name end_station_id member_casual  day_of_week  \\\n98   California Ave & Milwaukee Ave          13084        casual            4   \n214     Burnham Greenway & 105th St          20222        casual            7   \n216    California Ave & Division St          13256        casual            1   \n233    California Ave & Division St          13256        casual            1   \n387  California Ave & Milwaukee Ave          13084        casual            7   \n\n     ride_length_min  \n98             23.75  \n214            25.70  \n216             9.38  \n233            34.72  \n387             0.72  ",
      "text/html": "<div>\n<style scoped>\n    .dataframe tbody tr th:only-of-type {\n        vertical-align: middle;\n    }\n\n    .dataframe tbody tr th {\n        vertical-align: top;\n    }\n\n    .dataframe thead th {\n        text-align: right;\n    }\n</style>\n<table border=\"1\" class=\"dataframe\">\n  <thead>\n    <tr style=\"text-align: right;\">\n      <th></th>\n      <th>ride_id</th>\n      <th>rideable_type</th>\n      <th>started_at</th>\n      <th>ended_at</th>\n      <th>start_station_name</th>\n      <th>start_station_id</th>\n      <th>end_station_name</th>\n      <th>end_station_id</th>\n      <th>member_casual</th>\n      <th>day_of_week</th>\n      <th>ride_length_min</th>\n    </tr>\n  </thead>\n  <tbody>\n    <tr>\n      <th>98</th>\n      <td>B12AD6565494C368</td>\n      <td>classic_bike</td>\n      <td>2022-06-09 22:28:32</td>\n      <td>2022-06-09 22:52:17</td>\n      <td>California Ave &amp; Milwaukee Ave</td>\n      <td>13084</td>\n      <td>California Ave &amp; Milwaukee Ave</td>\n      <td>13084</td>\n      <td>casual</td>\n      <td>4</td>\n      <td>23.75</td>\n    </tr>\n    <tr>\n      <th>214</th>\n      <td>76DAD9FC95774B53</td>\n      <td>electric_bike</td>\n      <td>2022-06-26 23:59:44</td>\n      <td>2022-06-27 00:25:26</td>\n      <td>Burnham Greenway &amp; 105th St</td>\n      <td>20222</td>\n      <td>Burnham Greenway &amp; 105th St</td>\n      <td>20222</td>\n      <td>casual</td>\n      <td>7</td>\n      <td>25.70</td>\n    </tr>\n    <tr>\n      <th>216</th>\n      <td>47DE68ACCA138C13</td>\n      <td>electric_bike</td>\n      <td>2022-06-27 11:40:53</td>\n      <td>2022-06-27 11:50:16</td>\n      <td>Wood St &amp; Chicago Ave</td>\n      <td>637</td>\n      <td>California Ave &amp; Division St</td>\n      <td>13256</td>\n      <td>casual</td>\n      <td>1</td>\n      <td>9.38</td>\n    </tr>\n    <tr>\n      <th>233</th>\n      <td>5D899636D3334ED5</td>\n      <td>classic_bike</td>\n      <td>2022-06-27 16:01:13</td>\n      <td>2022-06-27 16:35:56</td>\n      <td>California Ave &amp; Division St</td>\n      <td>13256</td>\n      <td>California Ave &amp; Division St</td>\n      <td>13256</td>\n      <td>casual</td>\n      <td>1</td>\n      <td>34.72</td>\n    </tr>\n    <tr>\n      <th>387</th>\n      <td>7A163D957F8CF0DD</td>\n      <td>classic_bike</td>\n      <td>2022-06-19 22:29:14</td>\n      <td>2022-06-19 22:29:57</td>\n      <td>California Ave &amp; Milwaukee Ave</td>\n      <td>13084</td>\n      <td>California Ave &amp; Milwaukee Ave</td>\n      <td>13084</td>\n      <td>casual</td>\n      <td>7</td>\n      <td>0.72</td>\n    </tr>\n  </tbody>\n</table>\n</div>"
     },
     "execution_count": 15,
     "metadata": {},
     "output_type": "execute_result"
    }
   ],
   "source": [
    "df.head()"
   ],
   "metadata": {
    "collapsed": false
   }
  },
  {
   "cell_type": "code",
   "execution_count": 16,
   "outputs": [
    {
     "name": "stdout",
     "output_type": "stream",
     "text": [
      "Mean ride length: 16.73\n",
      "Max ride length: 34354.07\n",
      "Mode day of week: 6\n"
     ]
    }
   ],
   "source": [
    "# Calculate basic descriptive statistics\n",
    "mean_ride_length = df['ride_length_min'].mean()\n",
    "max_ride_length = df['ride_length_min'].max()\n",
    "mode_day_of_week = df['day_of_week'].mode()[0]\n",
    "\n",
    "# Print the results\n",
    "print(\"Mean ride length: {:.2f}\".format(mean_ride_length))\n",
    "print(\"Max ride length: {:.2f}\".format(max_ride_length))\n",
    "print(\"Mode day of week: {}\".format(mode_day_of_week))"
   ],
   "metadata": {
    "collapsed": false
   }
  },
  {
   "cell_type": "code",
   "execution_count": 17,
   "outputs": [],
   "source": [
    "import numpy as np\n",
    "# To treat outliers\n",
    "# Calculate mean and standard deviation of ride_length_min column\n",
    "mean_ride_length = df['ride_length_min'].mean()\n",
    "std_ride_length = df['ride_length_min'].std()\n",
    "\n",
    "# Calculate z-scores for ride_length_min column\n",
    "z_scores = np.abs((df['ride_length_min'] - mean_ride_length) / std_ride_length)\n",
    "\n",
    "# Create new DataFrame without outliers\n",
    "df_clean = df[z_scores < 3]\n"
   ],
   "metadata": {
    "collapsed": false
   }
  },
  {
   "cell_type": "code",
   "execution_count": 18,
   "outputs": [
    {
     "name": "stdout",
     "output_type": "stream",
     "text": [
      "Standard deviation of ride_length_min column: 41.32\n"
     ]
    }
   ],
   "source": [
    "std_deviation = df['ride_length_min'].std()\n",
    "print(\"Standard deviation of ride_length_min column: {:.2f}\".format(std_deviation))\n"
   ],
   "metadata": {
    "collapsed": false
   }
  },
  {
   "cell_type": "code",
   "execution_count": 19,
   "outputs": [
    {
     "name": "stdout",
     "output_type": "stream",
     "text": [
      "Mean ride length: 15.25\n",
      "Max ride length: 140.67\n",
      "Mode day of week: 6\n"
     ]
    }
   ],
   "source": [
    "# Calculate basic descriptive statistics\n",
    "mean_ride_length = df_clean['ride_length_min'].mean()\n",
    "max_ride_length = df_clean['ride_length_min'].max()\n",
    "mode_day_of_week = df_clean['day_of_week'].mode()[0]\n",
    "\n",
    "# Print the results\n",
    "print(\"Mean ride length: {:.2f}\".format(mean_ride_length))\n",
    "print(\"Max ride length: {:.2f}\".format(max_ride_length))\n",
    "print(\"Mode day of week: {}\".format(mode_day_of_week))"
   ],
   "metadata": {
    "collapsed": false
   }
  },
  {
   "cell_type": "code",
   "execution_count": 21,
   "outputs": [],
   "source": [
    "df_clean.to_csv('G:/My Drive/4. Projetos/3. Data Analytics/1. Side Projects/2. Google Data Analytics Capstone Project (Cyclistic)/Data Source/Data/df_cleaned.csv', index=False)"
   ],
   "metadata": {
    "collapsed": false
   }
  },
  {
   "cell_type": "code",
   "execution_count": null,
   "outputs": [],
   "source": [],
   "metadata": {
    "collapsed": false
   }
  }
 ],
 "metadata": {
  "kernelspec": {
   "display_name": "Python 3",
   "language": "python",
   "name": "python3"
  },
  "language_info": {
   "codemirror_mode": {
    "name": "ipython",
    "version": 2
   },
   "file_extension": ".py",
   "mimetype": "text/x-python",
   "name": "python",
   "nbconvert_exporter": "python",
   "pygments_lexer": "ipython2",
   "version": "2.7.6"
  }
 },
 "nbformat": 4,
 "nbformat_minor": 0
}
